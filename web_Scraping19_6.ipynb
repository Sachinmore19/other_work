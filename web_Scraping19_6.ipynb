{
 "cells": [
  {
   "cell_type": "code",
   "execution_count": 1,
   "id": "acda17bf",
   "metadata": {},
   "outputs": [],
   "source": [
    "import requests \n",
    "from bs4 import BeautifulSoup\n",
    "import pandas as pd"
   ]
  },
  {
   "cell_type": "code",
   "execution_count": 2,
   "id": "fd64df0c",
   "metadata": {},
   "outputs": [],
   "source": [
    "url='https://www.inshorts.com/en/read'\n",
    "data=requests.get(url)"
   ]
  },
  {
   "cell_type": "code",
   "execution_count": 3,
   "id": "9fe6d45c",
   "metadata": {},
   "outputs": [
    {
     "data": {
      "text/plain": [
       "<Response [200]>"
      ]
     },
     "execution_count": 3,
     "metadata": {},
     "output_type": "execute_result"
    }
   ],
   "source": [
    "data"
   ]
  },
  {
   "cell_type": "code",
   "execution_count": 4,
   "id": "8dc50ef4",
   "metadata": {},
   "outputs": [],
   "source": [
    "soup=BeautifulSoup(data.content,'html.parser')"
   ]
  },
  {
   "cell_type": "code",
   "execution_count": 6,
   "id": "8ca7aca4",
   "metadata": {},
   "outputs": [],
   "source": [
    "#soup"
   ]
  },
  {
   "cell_type": "code",
   "execution_count": 7,
   "id": "bf5d8210",
   "metadata": {},
   "outputs": [],
   "source": [
    "head=[]\n",
    "for i in soup.find_all('span',itemprop=['headline']):\n",
    "    head.append(i.text)"
   ]
  },
  {
   "cell_type": "code",
   "execution_count": 8,
   "id": "65faa7cf",
   "metadata": {},
   "outputs": [
    {
     "data": {
      "text/plain": [
       "[\"Why did government bring new 'Agnipath' armed forces recruitment scheme?\",\n",
       " 'Who is Abbas, the childhood friend PM Modi mentioned in his blog?',\n",
       " 'Ex-SL cricketer Mahanama serves tea and buns to people in queues at petrol station',\n",
       " \"If I want to keep office security, I'll give priority to Agniveers: Senior BJP leader\",\n",
       " 'Man posts pics of blank cheques for police to get case filed, Gurugram Police chief replies',\n",
       " '50,000 women from Gujarat write postcards to PM on water shortage',\n",
       " 'Nishant Bhat gets injured while performing task on Khatron Ke Khiladi 12',\n",
       " \"Music composer Aadesh's biopic featuring his son Avitesh announced\",\n",
       " \"Samantha talks about unfairness in life with Sadhguru, says 'Is it due to karma'\",\n",
       " '25 MCD-run schools to soon be upgraded as a pilot project: Delhi LG',\n",
       " \"Buttler's IPL salary can be ₹30-35 crore: Chopra on impact of media rights\",\n",
       " \"I'm feeling good: Neeraj Chopra amid injury fears after fall at Kuortane Games\",\n",
       " \"Mumbai didn't even make an effort to win Ranji semi-final vs UP: Aakash \",\n",
       " 'A minimum of 14 home games are needed in IPL: Ness Wadia',\n",
       " 'Many things done with good intention get caught in colour of politics: PM',\n",
       " 'Is this MGNREGA-like step or hidden agenda of RSS: Tejashwi on Agnipath',\n",
       " \"Hold peaceful protests but don’t stop: Priyanka Gandhi at 'Agnipath' sit-in\",\n",
       " 'Assure only what you can deliver: Uddhav Thackeray to Centre on Agnipath',\n",
       " \"'Agnipath' scheme will kill youth of country, finish Army: Priyanka\",\n",
       " 'Don’t disrespect soldiers: Kejriwal on BJP leader’s remarks on ‘Agniveers’',\n",
       " \"Trekker's body found 8 months after he went missing in Himachal Pradesh\",\n",
       " 'Parking curbs near Bengaluru stadium in view of T-20 cricket match',\n",
       " 'Boulder rolls down hill in Mumbai, 2 people injured',\n",
       " 'Pak frees 20 Indian fishermen who spent 4 yrs in jail in Karachi',\n",
       " 'Wildfires engulf thousands of hectares in Spain amid heatwave']"
      ]
     },
     "execution_count": 8,
     "metadata": {},
     "output_type": "execute_result"
    }
   ],
   "source": [
    "head"
   ]
  },
  {
   "cell_type": "code",
   "execution_count": 9,
   "id": "ccaf5e88",
   "metadata": {},
   "outputs": [],
   "source": [
    "article=[]\n",
    "for i in soup.find_all('div',itemprop=['articleBody']):\n",
    "    article.append(i.text)"
   ]
  },
  {
   "cell_type": "code",
   "execution_count": 10,
   "id": "333b3252",
   "metadata": {},
   "outputs": [
    {
     "data": {
      "text/plain": [
       "['The government has answered why it brought \\'Agnipath\\' armed forces recruitment scheme. Additional Secretary in the Department of Military Affairs Lieutenant General Anil Puri said, \"This reform was long pending.\" He added, \"We want to bring youthfulness and experience. Today, a large number of jawan are in their 30s and officers are getting command much later than in the past.\"',\n",
       " \"PM Narendra Modi on Saturday mentioned his childhood friend Abbas in a blog post commemorating his mother's 100th birthday. Abbas formerly worked for the Gujarat government as a Class 2 employee in the Food and Supply Department. He retired from the service a few months ago and is presently residing in Sydney with his younger son.\",\n",
       " 'Pictures of former Sri Lanka cricketer Roshan Mahanama serving tea and buns to people waiting in long queues at petrol station amid economic crisis have gone viral. \"The queues are getting longer by the day and there will be many health risks to people staying in queues,\" Mahanama tweeted. \"Please, look after each other in the fuel queues,\" he added.',\n",
       " 'BJP National General Secretary Kailash Vijayvargiya on Sunday said, \"If I want to keep security in BJP office, I will give priority to Agniveers.\" Vijayvargiya later tweeted, \"Agniveers will definitely be trained and committed to duty, their excellence will be utilised in whatever field they will go after completing their service in the Army. That is clearly what I meant.\"',\n",
       " 'A man named Chaudhary Sat Prakash Nain has offered blank cheques to Gurugram Police to lodge a case over cow smuggling. \"Please tell how much money smugglers have given to kill me...will give more than him,\" he tweeted. Gurugram Police Commissioner Kala Ramachandran said there are criminal cases against the man and they\\'ll take action against him for the post.',\n",
       " 'As many as 50,000 women from 125 villages in Gujarat wrote postcards to PM Narendra Modi, requesting him to include Karmavad lake and Mukteshwar dam under Narmada Command area. As per reports, the water level in the water bodies has dipped and is running dry. People from Vadgam constituency have been agitating over this issue for the past few months.',\n",
       " \"Nishant Bhat got injured while performing a stunt on 'Khatron Ke Khiladi 12'. The choreographer suffered some injuries on his shoulders, back and knees, pictures of which have surfaced online. Recently, actress Kanika Mann also got injured while performing a task on the stunt-based reality show. 'Khatron Ke Khiladi 12' is being filmed in Cape Town, South Africa. \",\n",
       " \"A film based on the life of late music composer Aadesh Shrivastava has been announced. The biopic will feature Aadesh's son Avitesh Shrivastava. Film trade analyst Taran Adarsh took to Twitter to share that Deepak Mukut of Soham Rockstar Entertainment and Mansi Bagla of Mini Films have teamed up to make a film on the late music composer's love story. \",\n",
       " 'Actress Samantha Prabhu met spiritual leader Sadhguru at a recent event in Hyderabad. During the event, she asked him, \"How much of one’s life is a result of their past karma? Are...injustices and unfairness...one faces in one\\'s life a result of their past karma?\" Responding to her, Sadhguru said, \"I want the world to be fair to me is...schoolgirl question.\"',\n",
       " 'A total of 25 schools have been identified as a pilot project to upgrade teaching, technological and physical infrastructure in Municipal Corporation of Delhi (MCD)-run schools, said Delhi Lieutenant Governor VK Saxena. \"The same would gradually be undertaken in all other remaining schools run by MCD,\" he said. Saxena also promised to take MCD-run schools to the \"highest standards\".',\n",
       " 'Former India batter Aakash Chopra has commented on the impact that the selling of the latest IPL media rights can have on players\\' salaries. \"In case, a team is allowed to spend ₹200 crore on players, someone like Jos Buttler\\'s value could be ₹30-35 crore for one season...The big names will not be missing the IPL,\" Chopra said.',\n",
       " 'Olympic gold medal-winning javelin thrower Neeraj Chopra has brushed aside injury concerns after falling during the Kuortane Games in Finland, where he clinched his first gold medal of this year. \"I\\'m feeling good and looking forward to kicking off my Diamond League season on the 30th (June),\" he wrote on Twitter. Chopra secured gold with a throw of 86.69 metres. ',\n",
       " 'Commentator Aakash Chopra has questioned the Ranji Trophy\\'s \\'first-innings lead\\' rule after Mumbai entered the ongoing season\\'s final after a draw against Uttar Pradesh. \"If the match winner is...decided on the basis of first-innings lead, then why play?\" asked Aakash. The rule states that the team with the first-innings lead will progress if a knock-out match ends in a draw.',\n",
       " 'Punjab Kings co-owner Ness Wadia has advocated for 14 home matches for every IPL franchise. \"More home games and a bigger season. IPL will get even bigger. Having said that, seven matches at home is way too less. It should be a minimum of 14,\" Wadia said. He added that a longer IPL season is \"overdue\".',\n",
       " 'PM Narendra Modi on Sunday said that several things done with good intention get \"caught in the colour of politics\". PM added that he had the opportunity to inaugurate the Defence Complex last year. \"It\\'s the misfortune of our country that many good things, things done with good intention, get caught in the colour of politics,\" PM added.',\n",
       " 'RJD leader Tejashwi Yadav has raised several questions on the Centre\\'s Agnipath scheme. He asked whether the scheme is an MGNREGA-like step or a \"hidden agenda\" of the RSS. \"Protests are taking place across the country and there is anger among those who want to become soldiers,\" Yadav said while posing 20 questions to the government about the scheme.',\n",
       " 'Congress leader Priyanka Gandhi on Sunday urged the protestors to protest peacefully against the \\'Agnipath\\' scheme but also asked them not to stop agitating. \"This scheme will kill youth of the country, will finish Army...Please see the intent of this government and topple it,\" Priyanka added. She addressed the Congress\\' \\'Satyagrah\\' against the \\'Agnipath\\' scheme at Jantar Mantar in Delhi.',\n",
       " 'Maharashtra CM Uddhav Thackeray has criticised the Centre\\'s Agnipath scheme. \"You (Centre) must assure only what you can deliver,\" CM Thackeray said. \"Why give names like \\'Agniveer\\' and \\'Agnipath\\' to schemes which have no meaning? What will the youth aged 17 to 21 years get after four years?\" he asked. CM Thackeray added that \"having soldiers on contracts is dangerous\".',\n",
       " 'Congress leader Priyanka Gandhi Vadra on Sunday criticised the Centre for its proposed Agnipath scheme, claiming that it will kill the youth of the country and will finish the Army. \"Please see the intent of this government and topple it. Bring a government that is true to the nation and protects the country\\'s assets,\" she said. ',\n",
       " 'Following BJP leader Kailash Vijayvargiya’s remark on prioritising ‘Agniveers’ for security of party’s offices, Delhi CM Arvind Kejriwal asked the BJP leader not to “disrespect” the youth and the Army personnel of this country. The country’s youth works hard as they want to serve the country, not because they want to join as guards for the BJP office, Kejriwal added.',\n",
       " \"The ITBP has retrieved the body of a trekker, who went missing in October last year, near Lamkhaga Pass in Himachal Pradesh. According to ITBP, the deceased might be part of a group of trekkers from West Bengal who were trapped in sudden snowfall while crossing the pass. The trekker's body was carried for 10 kilometres in inhospitable terrains.\",\n",
       " 'The Bengaluru Traffic Police has made special arrangements for the smooth flow of traffic in and around Sri M Chinnaswamy Stadium in view of the T-20 cricket match between India and South Africa on Sunday. Parking has been banned at various places, including Queens Road (Balekundri Circle to Queens Circle) and MG Road (Queens Circle to Cauvery Emporium Junction).',\n",
       " 'Two brothers were injured after a boulder rolled down a hill and hit their hut in New Bharat Nagar locality of suburban Chembur in Mumbai on Sunday, a fire official said. The injured were taken to a hospital after the incident, the official added. Earlier, authorities had cautioned residents of the area of such incidents, a police official said.',\n",
       " 'Pakistan released 20 Indian fishermen, who were imprisoned in a jail in Karachi for four years on charges of violating its territorial waters, an official said on Sunday. \"[The fishermen] were handed over to...Edhi trust which will be responsible for taking them to Lahore,\" the jail superintendent said. The fishermen will be handed over to Indian authorities at Wagah border.',\n",
       " 'Wildfires have spread in several parts of Spain, damaging vast land areas amid a heatwave that is unusual for this time of the year. In the Zamora province, over 25,000 hectares of land has been damaged. At least 10 villages have been evacuated. Over 500 firefighters, supported by aerial sprinkling of water, are working to contain the blaze.']"
      ]
     },
     "execution_count": 10,
     "metadata": {},
     "output_type": "execute_result"
    }
   ],
   "source": [
    "article"
   ]
  },
  {
   "cell_type": "code",
   "execution_count": 11,
   "id": "0f1bc362",
   "metadata": {},
   "outputs": [],
   "source": [
    "data_fetched=pd.DataFrame([head,article]).T"
   ]
  },
  {
   "cell_type": "code",
   "execution_count": 12,
   "id": "2e7ec4a8",
   "metadata": {},
   "outputs": [],
   "source": [
    "data_fetched.columns=['head','article']"
   ]
  },
  {
   "cell_type": "code",
   "execution_count": 13,
   "id": "8b4978c7",
   "metadata": {},
   "outputs": [
    {
     "data": {
      "text/html": [
       "<div>\n",
       "<style scoped>\n",
       "    .dataframe tbody tr th:only-of-type {\n",
       "        vertical-align: middle;\n",
       "    }\n",
       "\n",
       "    .dataframe tbody tr th {\n",
       "        vertical-align: top;\n",
       "    }\n",
       "\n",
       "    .dataframe thead th {\n",
       "        text-align: right;\n",
       "    }\n",
       "</style>\n",
       "<table border=\"1\" class=\"dataframe\">\n",
       "  <thead>\n",
       "    <tr style=\"text-align: right;\">\n",
       "      <th></th>\n",
       "      <th>head</th>\n",
       "      <th>article</th>\n",
       "    </tr>\n",
       "  </thead>\n",
       "  <tbody>\n",
       "    <tr>\n",
       "      <th>0</th>\n",
       "      <td>Why did government bring new 'Agnipath' armed ...</td>\n",
       "      <td>The government has answered why it brought 'Ag...</td>\n",
       "    </tr>\n",
       "    <tr>\n",
       "      <th>1</th>\n",
       "      <td>Who is Abbas, the childhood friend PM Modi men...</td>\n",
       "      <td>PM Narendra Modi on Saturday mentioned his chi...</td>\n",
       "    </tr>\n",
       "    <tr>\n",
       "      <th>2</th>\n",
       "      <td>Ex-SL cricketer Mahanama serves tea and buns t...</td>\n",
       "      <td>Pictures of former Sri Lanka cricketer Roshan ...</td>\n",
       "    </tr>\n",
       "    <tr>\n",
       "      <th>3</th>\n",
       "      <td>If I want to keep office security, I'll give p...</td>\n",
       "      <td>BJP National General Secretary Kailash Vijayva...</td>\n",
       "    </tr>\n",
       "    <tr>\n",
       "      <th>4</th>\n",
       "      <td>Man posts pics of blank cheques for police to ...</td>\n",
       "      <td>A man named Chaudhary Sat Prakash Nain has off...</td>\n",
       "    </tr>\n",
       "    <tr>\n",
       "      <th>5</th>\n",
       "      <td>50,000 women from Gujarat write postcards to P...</td>\n",
       "      <td>As many as 50,000 women from 125 villages in G...</td>\n",
       "    </tr>\n",
       "    <tr>\n",
       "      <th>6</th>\n",
       "      <td>Nishant Bhat gets injured while performing tas...</td>\n",
       "      <td>Nishant Bhat got injured while performing a st...</td>\n",
       "    </tr>\n",
       "    <tr>\n",
       "      <th>7</th>\n",
       "      <td>Music composer Aadesh's biopic featuring his s...</td>\n",
       "      <td>A film based on the life of late music compose...</td>\n",
       "    </tr>\n",
       "    <tr>\n",
       "      <th>8</th>\n",
       "      <td>Samantha talks about unfairness in life with S...</td>\n",
       "      <td>Actress Samantha Prabhu met spiritual leader S...</td>\n",
       "    </tr>\n",
       "    <tr>\n",
       "      <th>9</th>\n",
       "      <td>25 MCD-run schools to soon be upgraded as a pi...</td>\n",
       "      <td>A total of 25 schools have been identified as ...</td>\n",
       "    </tr>\n",
       "    <tr>\n",
       "      <th>10</th>\n",
       "      <td>Buttler's IPL salary can be ₹30-35 crore: Chop...</td>\n",
       "      <td>Former India batter Aakash Chopra has commente...</td>\n",
       "    </tr>\n",
       "    <tr>\n",
       "      <th>11</th>\n",
       "      <td>I'm feeling good: Neeraj Chopra amid injury fe...</td>\n",
       "      <td>Olympic gold medal-winning javelin thrower Nee...</td>\n",
       "    </tr>\n",
       "    <tr>\n",
       "      <th>12</th>\n",
       "      <td>Mumbai didn't even make an effort to win Ranji...</td>\n",
       "      <td>Commentator Aakash Chopra has questioned the R...</td>\n",
       "    </tr>\n",
       "    <tr>\n",
       "      <th>13</th>\n",
       "      <td>A minimum of 14 home games are needed in IPL: ...</td>\n",
       "      <td>Punjab Kings co-owner Ness Wadia has advocated...</td>\n",
       "    </tr>\n",
       "    <tr>\n",
       "      <th>14</th>\n",
       "      <td>Many things done with good intention get caugh...</td>\n",
       "      <td>PM Narendra Modi on Sunday said that several t...</td>\n",
       "    </tr>\n",
       "    <tr>\n",
       "      <th>15</th>\n",
       "      <td>Is this MGNREGA-like step or hidden agenda of ...</td>\n",
       "      <td>RJD leader Tejashwi Yadav has raised several q...</td>\n",
       "    </tr>\n",
       "    <tr>\n",
       "      <th>16</th>\n",
       "      <td>Hold peaceful protests but don’t stop: Priyank...</td>\n",
       "      <td>Congress leader Priyanka Gandhi on Sunday urge...</td>\n",
       "    </tr>\n",
       "    <tr>\n",
       "      <th>17</th>\n",
       "      <td>Assure only what you can deliver: Uddhav Thack...</td>\n",
       "      <td>Maharashtra CM Uddhav Thackeray has criticised...</td>\n",
       "    </tr>\n",
       "    <tr>\n",
       "      <th>18</th>\n",
       "      <td>'Agnipath' scheme will kill youth of country, ...</td>\n",
       "      <td>Congress leader Priyanka Gandhi Vadra on Sunda...</td>\n",
       "    </tr>\n",
       "    <tr>\n",
       "      <th>19</th>\n",
       "      <td>Don’t disrespect soldiers: Kejriwal on BJP lea...</td>\n",
       "      <td>Following BJP leader Kailash Vijayvargiya’s re...</td>\n",
       "    </tr>\n",
       "    <tr>\n",
       "      <th>20</th>\n",
       "      <td>Trekker's body found 8 months after he went mi...</td>\n",
       "      <td>The ITBP has retrieved the body of a trekker, ...</td>\n",
       "    </tr>\n",
       "    <tr>\n",
       "      <th>21</th>\n",
       "      <td>Parking curbs near Bengaluru stadium in view o...</td>\n",
       "      <td>The Bengaluru Traffic Police has made special ...</td>\n",
       "    </tr>\n",
       "    <tr>\n",
       "      <th>22</th>\n",
       "      <td>Boulder rolls down hill in Mumbai, 2 people in...</td>\n",
       "      <td>Two brothers were injured after a boulder roll...</td>\n",
       "    </tr>\n",
       "    <tr>\n",
       "      <th>23</th>\n",
       "      <td>Pak frees 20 Indian fishermen who spent 4 yrs ...</td>\n",
       "      <td>Pakistan released 20 Indian fishermen, who wer...</td>\n",
       "    </tr>\n",
       "    <tr>\n",
       "      <th>24</th>\n",
       "      <td>Wildfires engulf thousands of hectares in Spai...</td>\n",
       "      <td>Wildfires have spread in several parts of Spai...</td>\n",
       "    </tr>\n",
       "  </tbody>\n",
       "</table>\n",
       "</div>"
      ],
      "text/plain": [
       "                                                 head  \\\n",
       "0   Why did government bring new 'Agnipath' armed ...   \n",
       "1   Who is Abbas, the childhood friend PM Modi men...   \n",
       "2   Ex-SL cricketer Mahanama serves tea and buns t...   \n",
       "3   If I want to keep office security, I'll give p...   \n",
       "4   Man posts pics of blank cheques for police to ...   \n",
       "5   50,000 women from Gujarat write postcards to P...   \n",
       "6   Nishant Bhat gets injured while performing tas...   \n",
       "7   Music composer Aadesh's biopic featuring his s...   \n",
       "8   Samantha talks about unfairness in life with S...   \n",
       "9   25 MCD-run schools to soon be upgraded as a pi...   \n",
       "10  Buttler's IPL salary can be ₹30-35 crore: Chop...   \n",
       "11  I'm feeling good: Neeraj Chopra amid injury fe...   \n",
       "12  Mumbai didn't even make an effort to win Ranji...   \n",
       "13  A minimum of 14 home games are needed in IPL: ...   \n",
       "14  Many things done with good intention get caugh...   \n",
       "15  Is this MGNREGA-like step or hidden agenda of ...   \n",
       "16  Hold peaceful protests but don’t stop: Priyank...   \n",
       "17  Assure only what you can deliver: Uddhav Thack...   \n",
       "18  'Agnipath' scheme will kill youth of country, ...   \n",
       "19  Don’t disrespect soldiers: Kejriwal on BJP lea...   \n",
       "20  Trekker's body found 8 months after he went mi...   \n",
       "21  Parking curbs near Bengaluru stadium in view o...   \n",
       "22  Boulder rolls down hill in Mumbai, 2 people in...   \n",
       "23  Pak frees 20 Indian fishermen who spent 4 yrs ...   \n",
       "24  Wildfires engulf thousands of hectares in Spai...   \n",
       "\n",
       "                                              article  \n",
       "0   The government has answered why it brought 'Ag...  \n",
       "1   PM Narendra Modi on Saturday mentioned his chi...  \n",
       "2   Pictures of former Sri Lanka cricketer Roshan ...  \n",
       "3   BJP National General Secretary Kailash Vijayva...  \n",
       "4   A man named Chaudhary Sat Prakash Nain has off...  \n",
       "5   As many as 50,000 women from 125 villages in G...  \n",
       "6   Nishant Bhat got injured while performing a st...  \n",
       "7   A film based on the life of late music compose...  \n",
       "8   Actress Samantha Prabhu met spiritual leader S...  \n",
       "9   A total of 25 schools have been identified as ...  \n",
       "10  Former India batter Aakash Chopra has commente...  \n",
       "11  Olympic gold medal-winning javelin thrower Nee...  \n",
       "12  Commentator Aakash Chopra has questioned the R...  \n",
       "13  Punjab Kings co-owner Ness Wadia has advocated...  \n",
       "14  PM Narendra Modi on Sunday said that several t...  \n",
       "15  RJD leader Tejashwi Yadav has raised several q...  \n",
       "16  Congress leader Priyanka Gandhi on Sunday urge...  \n",
       "17  Maharashtra CM Uddhav Thackeray has criticised...  \n",
       "18  Congress leader Priyanka Gandhi Vadra on Sunda...  \n",
       "19  Following BJP leader Kailash Vijayvargiya’s re...  \n",
       "20  The ITBP has retrieved the body of a trekker, ...  \n",
       "21  The Bengaluru Traffic Police has made special ...  \n",
       "22  Two brothers were injured after a boulder roll...  \n",
       "23  Pakistan released 20 Indian fishermen, who wer...  \n",
       "24  Wildfires have spread in several parts of Spai...  "
      ]
     },
     "execution_count": 13,
     "metadata": {},
     "output_type": "execute_result"
    }
   ],
   "source": [
    "data_fetched"
   ]
  },
  {
   "cell_type": "code",
   "execution_count": null,
   "id": "69abd2e0",
   "metadata": {},
   "outputs": [],
   "source": []
  }
 ],
 "metadata": {
  "kernelspec": {
   "display_name": "Python 3 (ipykernel)",
   "language": "python",
   "name": "python3"
  },
  "language_info": {
   "codemirror_mode": {
    "name": "ipython",
    "version": 3
   },
   "file_extension": ".py",
   "mimetype": "text/x-python",
   "name": "python",
   "nbconvert_exporter": "python",
   "pygments_lexer": "ipython3",
   "version": "3.9.7"
  }
 },
 "nbformat": 4,
 "nbformat_minor": 5
}
